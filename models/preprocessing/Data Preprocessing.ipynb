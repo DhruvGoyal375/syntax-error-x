{
 "cells": [
  {
   "cell_type": "code",
   "execution_count": 2,
   "id": "c8c51fc4",
   "metadata": {},
   "outputs": [],
   "source": [
    "import pandas as pd\n",
    "import contractions\n",
    "import re\n",
    "import nltk\n",
    "from nltk.tokenize import ToktokTokenizer\n",
    "import spacy"
   ]
  },
  {
   "cell_type": "code",
   "execution_count": 2,
   "id": "03f0cc2b",
   "metadata": {},
   "outputs": [],
   "source": [
    "def preprocess(series):\n",
    "    series = series.apply(lambda x: str(x).lower())\n",
    "    \n",
    "    def remove_contractions(row):\n",
    "        return contractions.fix(row)\n",
    "    series = series.apply(lambda x: remove_contractions(x))\n",
    "    \n",
    "    series = series.str.replace(r'[^\\w\\s]', '', regex=True)\n",
    "    \n",
    "    series = series.str.replace(r'[^a-zA-Z0-9\\s]', '', regex=True)\n",
    "    \n",
    "    def remove_numbers(text):\n",
    "        pattern = r'[^a-zA-z.,!?/:;\\\"\\'\\s]' \n",
    "        return re.sub(pattern, '', text)\n",
    "    series = series.apply(lambda x: remove_numbers(x))\n",
    "    \n",
    "    nlp = spacy.load('en_core_web_sm')\n",
    "    def get_lem(text):\n",
    "        text = nlp(text)\n",
    "        text = ' '.join([word.lemma_ if word.lemma_ != '-PRON-' else word.text for word in text])\n",
    "        return text\n",
    "    series = series.apply(lambda x: get_lem(x))\n",
    "    \n",
    "    tokenizer = ToktokTokenizer()\n",
    "    stopword_list = nltk.corpus.stopwords.words('english')\n",
    "    stopword_list.remove('not')\n",
    "    def remove_stopwords(text):\n",
    "        tokens = tokenizer.tokenize(text)\n",
    "        tokens = [token.strip() for token in tokens]\n",
    "        t = [token for token in tokens if token.lower() not in stopword_list]\n",
    "        text = ' '.join(t)    \n",
    "        return text\n",
    "    series = series.apply(lambda x: remove_stopwords(x))\n",
    "    return series"
   ]
  },
  {
   "cell_type": "markdown",
   "id": "ad8cc987",
   "metadata": {},
   "source": [
    "### IndiaToday "
   ]
  },
  {
   "cell_type": "code",
   "execution_count": 3,
   "id": "510dcc0f",
   "metadata": {},
   "outputs": [],
   "source": [
    "df = pd.read_excel(\"IndiaToday.xlsx\")"
   ]
  },
  {
   "cell_type": "code",
   "execution_count": 4,
   "id": "cfacff88",
   "metadata": {},
   "outputs": [],
   "source": [
    "def remove_edited(row):\n",
    "    index_of_edited_by = row.find(\"Edited By: \")\n",
    "\n",
    "    if index_of_edited_by != -1:\n",
    "        modified_text = row[:index_of_edited_by]\n",
    "        return modified_text\n",
    "    else:\n",
    "        return row\n",
    "df.Body = df.Body.apply(lambda x: remove_edited(x))"
   ]
  },
  {
   "cell_type": "code",
   "execution_count": 5,
   "id": "35c6a550",
   "metadata": {},
   "outputs": [],
   "source": [
    "df = df[~df['Body'].apply(lambda x: isinstance(x, (float, int)))]"
   ]
  },
  {
   "cell_type": "code",
   "execution_count": 6,
   "id": "216bd329",
   "metadata": {},
   "outputs": [],
   "source": [
    "df = df[~df['Heading'].str.contains('horoscope', case=False)]"
   ]
  },
  {
   "cell_type": "code",
   "execution_count": 7,
   "id": "3dea46fa",
   "metadata": {},
   "outputs": [],
   "source": [
    "df.Body = preprocess(df.Body)"
   ]
  },
  {
   "cell_type": "code",
   "execution_count": 8,
   "id": "cf09de27",
   "metadata": {},
   "outputs": [],
   "source": [
    "df = df.dropna()"
   ]
  },
  {
   "cell_type": "code",
   "execution_count": 9,
   "id": "14772d21",
   "metadata": {},
   "outputs": [],
   "source": [
    "# file_name = \"IndiaToday_Preprocessed.xlsx\"\n",
    "# df.to_excel(file_name, index=False)"
   ]
  },
  {
   "cell_type": "markdown",
   "id": "e3541135",
   "metadata": {},
   "source": [
    "### IndiaTV "
   ]
  },
  {
   "cell_type": "code",
   "execution_count": 10,
   "id": "9c1fcfd2",
   "metadata": {},
   "outputs": [],
   "source": [
    "df2 = pd.read_excel(\"IndiaTv.xlsx\")"
   ]
  },
  {
   "cell_type": "code",
   "execution_count": 11,
   "id": "1ad0b164",
   "metadata": {},
   "outputs": [],
   "source": [
    "df2 = df2[~df2['Body'].apply(lambda x: isinstance(x, (float, int)))]"
   ]
  },
  {
   "cell_type": "code",
   "execution_count": 12,
   "id": "2234f7a2",
   "metadata": {},
   "outputs": [],
   "source": [
    "df2 = df2.loc[~(df2.Heading.str.contains(\"Aaj Ki Baat\") | df2.Heading.str.contains(\"Horoscope\")\\\n",
    "                | df2.Heading.str.contains(\"Aap Ki Adalat\"))]"
   ]
  },
  {
   "cell_type": "code",
   "execution_count": 13,
   "id": "b76b4e37",
   "metadata": {},
   "outputs": [],
   "source": [
    "df2 = df2[~df2['Heading'].str.contains('horoscope', case=False)]"
   ]
  },
  {
   "cell_type": "code",
   "execution_count": 14,
   "id": "f5b05931",
   "metadata": {},
   "outputs": [],
   "source": [
    "df2.Body = preprocess(df2.Body)"
   ]
  },
  {
   "cell_type": "code",
   "execution_count": 15,
   "id": "378bd54c",
   "metadata": {},
   "outputs": [],
   "source": [
    "df2 = df2.dropna()"
   ]
  },
  {
   "cell_type": "code",
   "execution_count": 16,
   "id": "9b0d4ac6",
   "metadata": {},
   "outputs": [],
   "source": [
    "# file_name = \"IndiaTV_Preprocessed.xlsx\"\n",
    "# df2.to_excel(file_name, index=False)"
   ]
  },
  {
   "cell_type": "markdown",
   "id": "1b8317e2",
   "metadata": {},
   "source": [
    "### News18 "
   ]
  },
  {
   "cell_type": "code",
   "execution_count": 17,
   "id": "5f70daf3",
   "metadata": {},
   "outputs": [],
   "source": [
    "df3 = pd.read_excel(\"News18.xlsx\")"
   ]
  },
  {
   "cell_type": "code",
   "execution_count": 18,
   "id": "0c410ca8",
   "metadata": {},
   "outputs": [],
   "source": [
    "df3 = df3[~df3['Body'].apply(lambda x: isinstance(x, (float, int)))]"
   ]
  },
  {
   "cell_type": "code",
   "execution_count": 19,
   "id": "9b887820",
   "metadata": {},
   "outputs": [],
   "source": [
    "df3 = df3[~df3['Heading'].str.contains('horoscope', case=False)]"
   ]
  },
  {
   "cell_type": "code",
   "execution_count": 20,
   "id": "9cc8000c",
   "metadata": {},
   "outputs": [],
   "source": [
    "df3.Body = preprocess(df3.Body)"
   ]
  },
  {
   "cell_type": "code",
   "execution_count": 21,
   "id": "73746eea",
   "metadata": {},
   "outputs": [],
   "source": [
    "df3 = df3.dropna()"
   ]
  },
  {
   "cell_type": "code",
   "execution_count": 22,
   "id": "79ab5516",
   "metadata": {},
   "outputs": [],
   "source": [
    "# file_name = \"News18_Preprocessed.xlsx\"\n",
    "# df3.to_excel(file_name, index=False)"
   ]
  },
  {
   "cell_type": "markdown",
   "id": "70992c05",
   "metadata": {},
   "source": [
    "### ThePrint "
   ]
  },
  {
   "cell_type": "code",
   "execution_count": 23,
   "id": "27a9f289",
   "metadata": {},
   "outputs": [],
   "source": [
    "df4 = pd.read_excel(\"ThePrint.xlsx\")"
   ]
  },
  {
   "cell_type": "code",
   "execution_count": 24,
   "id": "71ef5fde",
   "metadata": {},
   "outputs": [],
   "source": [
    "df4 = df4[~df4['Body'].apply(lambda x: isinstance(x, (float, int)))]"
   ]
  },
  {
   "cell_type": "code",
   "execution_count": 25,
   "id": "54f84c83",
   "metadata": {},
   "outputs": [],
   "source": [
    "df4 = df4[~(df4['Body'].str.contains('dear subscriber', case=False))]"
   ]
  },
  {
   "cell_type": "code",
   "execution_count": 26,
   "id": "4c31fd20",
   "metadata": {},
   "outputs": [],
   "source": [
    "df4 = df4[~df4['Heading'].str.contains('horoscope', case=False)]"
   ]
  },
  {
   "cell_type": "code",
   "execution_count": 27,
   "id": "f4312afc",
   "metadata": {},
   "outputs": [],
   "source": [
    "df4.Body = preprocess(df4.Body)"
   ]
  },
  {
   "cell_type": "code",
   "execution_count": 28,
   "id": "c7636047",
   "metadata": {},
   "outputs": [],
   "source": [
    "df4 = df4.dropna()"
   ]
  },
  {
   "cell_type": "code",
   "execution_count": 29,
   "id": "1bc93a4b",
   "metadata": {},
   "outputs": [],
   "source": [
    "# file_name = \"ThePrint_Preprocessed.xlsx\"\n",
    "# df4.to_excel(file_name, index=False)"
   ]
  },
  {
   "cell_type": "markdown",
   "id": "54ed068f",
   "metadata": {},
   "source": [
    "### Merge Datasets"
   ]
  },
  {
   "cell_type": "code",
   "execution_count": 30,
   "id": "b56f3521",
   "metadata": {},
   "outputs": [],
   "source": [
    "df5 = pd.concat([df, df2, df3, df4], ignore_index=True, axis=0)"
   ]
  },
  {
   "cell_type": "code",
   "execution_count": 42,
   "id": "2b7c6727",
   "metadata": {},
   "outputs": [],
   "source": [
    "df5.Heading.dropna(inplace=True)"
   ]
  },
  {
   "cell_type": "code",
   "execution_count": 45,
   "id": "cc908cde",
   "metadata": {},
   "outputs": [
    {
     "data": {
      "text/plain": [
       "0"
      ]
     },
     "execution_count": 45,
     "metadata": {},
     "output_type": "execute_result"
    }
   ],
   "source": [
    "df5.Body.isna().sum()"
   ]
  },
  {
   "cell_type": "code",
   "execution_count": 48,
   "id": "44af11b7",
   "metadata": {},
   "outputs": [],
   "source": [
    "import numpy as np"
   ]
  },
  {
   "cell_type": "code",
   "execution_count": 53,
   "id": "2115aa69",
   "metadata": {},
   "outputs": [],
   "source": [
    "df5 = df5[~(df5.Body == \"\")]"
   ]
  },
  {
   "cell_type": "code",
   "execution_count": 54,
   "id": "9a1d2be6",
   "metadata": {},
   "outputs": [],
   "source": [
    "file_name = \"Final_Prepped_Data.xlsx\"\n",
    "df5.to_excel(file_name, index=False)"
   ]
  },
  {
   "cell_type": "code",
   "execution_count": null,
   "id": "1008befa",
   "metadata": {},
   "outputs": [],
   "source": []
  },
  {
   "cell_type": "markdown",
   "id": "4479c135",
   "metadata": {},
   "source": [
    "### News18_Punjab"
   ]
  },
  {
   "cell_type": "code",
   "execution_count": 44,
   "id": "6e5d53d4",
   "metadata": {},
   "outputs": [],
   "source": [
    "df6 = pd.read_excel(\"News18_Punjab.xlsx\")"
   ]
  },
  {
   "cell_type": "code",
   "execution_count": 47,
   "id": "8b115213",
   "metadata": {},
   "outputs": [
    {
     "data": {
      "text/plain": [
       "\"Apple ਦੀ ਨਵੀਂ ਆਈਫੋਨ 15 ਸੀਰੀਜ਼ 'ਚ ਨੇ ਐਂਟਰੀ ਕਰ ਲਈ ਹੈ ਅਤੇ ਇਸ ਸੀਰੀਜ਼ 'ਚ ਕੰਪਨੀ ਨੇ ਚਾਰ ਨਵੇਂ ਮਾਡਲ iPhone 15, iPhone 15 Plus, iPhone 15 Pro ਅਤੇ iPhone 15 Pro Max ਨੂੰ ਸ਼ਾਮਲ ਕੀਤਾ ਹੈ। ਨਵੇਂ ਫੋਨ ਦੀ ਪ੍ਰੀ-ਬੁਕਿੰਗ 15 ਸਤੰਬਰ ਤੋਂ ਸ਼ੁਰੂ ਹੋ ਗਈ ਹੈ ਅਤੇ ਡਿਲੀਵਰੀ 22 ਸਤੰਬਰ ਤੋਂ ਸ਼ੁਰੂ ਹੋਵੇਗੀ। ਨਵੇਂ ਆਈਫੋਨ ਦੇ ਆਉਣ ਤੋਂ ਬਾਅਦ, ਪੁਰਾਣੇ ਆਈਫੋਨ ਦੀ ਕੀਮਤ ਘੱਟ ਹੋਣ 'ਤੇ ਕੁਝ ਲੋਕ ਉਸ ਮਾਡਲ ਨੂੰ ਖਰੀਦਣ ਦਾ ਪਲਾਨ ਬਣਾਉਂਦੇ ਹਨ। ਐਪਲ ਨੇ ਆਪਣੇ ਆਈਫੋਨ 14, 14 ਪ੍ਰੋ, ਆਈਫੋਨ 13 ਦੀ ਕੀਮਤ ਵਿੱਚ ਕਟੌਤੀ ਕਰ ਦਿੱਤੀ ਹੈਅਜਿਹੇ 'ਚ ਸਵਾਲ ਇਹ ਬਣਦਾ ਹੈ ਕਿ ਕੀ ਆਈਫੋਨ 15 ਦੇ ਆਉਣ ਤੋਂ ਬਾਅਦ ਆਈਫੋਨ 13 ਖਰੀਦਣਾ ਇੱਕ ਫਾਇਦੇ ਦਾ ਸੌਦਾ ਰਹੇਗਾ ਜਾਂ 2 ਸਾਲ ਪੁਰਾਣੇ ਮਾਡਲ ਨੂੰ ਖਰੀਦਣਾ ਮੂਰਖਤਾ ਹੈ। ਇਸ ਨੂੰ ਸਮਝਣ ਲਈ ਜ਼ਰੂਰੀ ਹੈ ਕਿ ਇਨ੍ਹਾਂ ਦੋਵਾਂ ਫੋਨਾਂ ਦੇ ਫੀਚਰਸ 'ਚ ਫਰਕ ਦੇਖ ਲਿਆ ਜਾਵੇ।ਸਭ ਤੋਂ ਪਹਿਲਾਂ, ਕੀਮਤ ਦੀ ਗੱਲ ਕਰੀਏ ਤਾਂ ਆਈਫੋਨ 15 ਦੀ ਸ਼ੁਰੂਆਤੀ ਕੀਮਤ 79,900 ਰੁਪਏ ਹੈ। ਜਦੋਂ ਕਿ iPhone 13 ਨੂੰ 59,900 ਰੁਪਏ ਦੀ ਸ਼ੁਰੂਆਤੀ ਕੀਮਤ 'ਤੇ ਘਰ ਲਿਆਂਦਾ ਜਾ ਸਕਦਾ ਹੈ।Display: ਆਈਫੋਨ 15 ਵਿੱਚ 6.1 ਇੰਚ ਦੀ ਸੁਪਰ ਰੈਟੀਨਾ XDR ਡਿਸਪਲੇ ਦਿੱਤੀ ਗਈ ਹੈ। ਆਈਫੋਨ 13 ਵਿੱਚ ਵੀ 6.1 ਇੰਚ ਦੀ ਸੁਪਰ ਰੇਟੀਨਾ ਐਕਸਡੀਆਰ ਡਿਸਪਲੇਅ ਹੈ। iPhone 15 ਵਿੱਚ ਐਲੂਮੀਨੀਅਮ ਦੇ ਨਾਲ ਕਲਰ ਇਨਫਿਊਜ਼ਡ ਗਲਾਸ ਬੈਕ ਮਿਲਦਾ ਹੈ। iPhone 13 ਵਿੱਚ ਐਲੂਮੀਨੀਅਮ ਦੇ ਨਾਲ ਗਲਾਸ ਬੈਕ ਮਿਲਦਾ ਹੈ। 15 ਵਿੱਚ\\xa0ਡਾਇਨਾਮਿਕ ਆਈਲੈਂਡ ,ਮਿਲਦਾ ਹੈ। ਜਦੋਂ ਕਿ ਆਈਫੋਨ 13 'ਚ ਇਹ ਫੀਚਰ ਨਹੀਂ ਦਿੱਤਾ ਗਿਆ ਹੈ।Processor: iPhone 15 ਵਿੱਚ A16 ਬਾਇਓਨਿਕ ਚਿੱਪ ਮਿਲਦੀ ਹੈ, ਅਤੇ ਇਸ ਵਿੱਚ 6 ਕੋਰ GPU, 5 ਕੋਰ GPU ਅਤੇ 16 ਕੋਰ ਨਿਊਰਲ ਇੰਜਣ ਹੈ। ਦੂਜੇ ਪਾਸੇ, iPhone 13 ਵਿੱਚ A15 ਬਾਇਓਨਿਕ ਚਿੱਪ ਦਿੱਤੀ ਗਈ ਹੈ, ਅਤੇ ਇਸ ਵਿੱਚ 6 ਕੋਰ GPU, 4 ਕੋਰ GPU ਅਤੇ 16 ਕੋਰ ਨਿਊਰਲ ਇੰਜਣ ਹੈ।ਕੈਮਰਾ: ਇੱਕ ਕੈਮਰੇ ਦੇ ਰੂਪ ਵਿੱਚ, ਆਈਫੋਨ 15 ਵਿੱਚ ਐਡਵਾਂਸਡ ਡਿਊਲ ਕੈਮਰਾ ਸੈੱਟਅਪ ਉਪਲਬਧ ਹੈ। ਇਸ ਵਿੱਚ 48 ਮੈਗਾਪਿਕਸਲ ਦਾ ਮੁੱਖ ਕੈਮਰਾ ਹੈ। ਜਦੋਂ ਕਿ iPhone 13 ਵਿੱਚ ਡਿਊਲ ਕੈਮਰਾ ਸਿਸਟਮ ਹੈ ਜੋ 12 ਮੈਗਾਪਿਕਸਲ ਅਤੇ ਅਲਟਰਾ ਵਾਈਡ ਹੈ।Battery: ਬੈਟਰੀ ਦੇ ਤੌਰ 'ਤੇ iPhone 15 ਵਿੱਚ USB-C ਹੈ, ਅਤੇ ਇਹ 20 ਘੰਟੇ ਦਾ ਵੀਡੀਓ ਪਲੇਬੈਕ ਦੇਣ ਦਾ ਦਾਅਵਾ ਕਰਦੀ ਹੈ। ਆਈਫੋਨ 13 ਵਿੱਚ ਲਾਈਟਨਿੰਗ USB 2 ਹੈ, ਅਤੇ ਇਹ ਦਾਅਵਾ ਕੀਤਾ ਜਾਂਦਾ ਹੈ ਕਿ ਇਹ 19 ਘੰਟੇ ਦਾ ਵੀਡੀਓ ਪਲੇਬੈਕ ਦਿੰਦੀ ਹੈ। ਦੋਵਾਂ ਫੋਨਾਂ 'ਚ ਫੇਸ ਆਈਡੀ ਆਪਸ਼ਨ ਹੈ, ਅਤੇ ਇਹ ਦੋਵੇਂ ਡਿਵਾਈਸ 5ਜੀ ਸਪੋਰਟ ਦੇ ਨਾਲ ਆਉਂਦੇ ਹਨ।\""
      ]
     },
     "execution_count": 47,
     "metadata": {},
     "output_type": "execute_result"
    }
   ],
   "source": [
    "df6.iloc[10, 1]"
   ]
  },
  {
   "cell_type": "code",
   "execution_count": 4,
   "id": "af2084f7",
   "metadata": {},
   "outputs": [],
   "source": [
    "def preprocess_punjabi(series):\n",
    "    series = series.str.replace(r'[^\\w\\s]', '', regex=True)\n",
    "    def remove_nums(row):\n",
    "        devanagari_nums = ('०','१','२','३','४','५','६','७','८','९')\n",
    "        for c, n in enumerate(devanagari_nums):\n",
    "            article = re.sub(n, str(c), row)\n",
    "        return article\n",
    "    series = series.apply(lambda x: remove_nums(x))\n",
    "    series = series.str.replace(r'\\d+', '', regex=True)\n",
    "    return series"
   ]
  },
  {
   "cell_type": "code",
   "execution_count": 5,
   "id": "eabf4f8f",
   "metadata": {},
   "outputs": [],
   "source": [
    "df6.Body = preprocess_punjabi(df6.Body)"
   ]
  },
  {
   "cell_type": "code",
   "execution_count": 42,
   "id": "7c8b9c95",
   "metadata": {},
   "outputs": [],
   "source": [
    "df6.dropna(inplace=True)"
   ]
  },
  {
   "cell_type": "code",
   "execution_count": 43,
   "id": "ae62a6ad",
   "metadata": {},
   "outputs": [],
   "source": [
    "df6 = [~(df6.Body == \"\")]"
   ]
  },
  {
   "cell_type": "markdown",
   "id": "caddb3f1",
   "metadata": {},
   "source": [
    "### AajTak_Hindi"
   ]
  },
  {
   "cell_type": "code",
   "execution_count": 10,
   "id": "111b4412",
   "metadata": {},
   "outputs": [],
   "source": [
    "df7 = pd.read_excel(\"AajTak.xlsx\")"
   ]
  },
  {
   "cell_type": "code",
   "execution_count": 37,
   "id": "206799ce",
   "metadata": {},
   "outputs": [],
   "source": [
    "def preprocess_hindi(series):\n",
    "    series = series.str.replace(r'[^\\w\\s]', '', regex=True)\n",
    "    series = series.str.replace(\"\\n\", '')\n",
    "    series = series.str.replace(\"\\xa0\", '')\n",
    "    def remove_nums(row):\n",
    "        devanagari_nums = ('०','१','२','३','४','५','६','७','८','९')\n",
    "        for c, n in enumerate(devanagari_nums):\n",
    "            article = re.sub(n, str(c), row)\n",
    "        return article\n",
    "    \n",
    "    stopwords_hi = ['तुम','मेरी','मुझे','क्योंकि','हम','प्रति','अबकी','आगे','माननीय','शहर','बताएं','कौनसी','क्लिक','किसकी','बड़े','मैं','and','रही','आज','लें','आपके','मिलकर','सब','मेरे','जी','श्री','वैसा','आपका','अंदर', 'अत', 'अपना', 'अपनी', 'अपने', 'अभी', 'आदि', 'आप', 'इत्यादि', 'इन', 'इनका', 'इन्हीं', 'इन्हें', 'इन्हों', 'इस', 'इसका', 'इसकी', 'इसके', 'इसमें', 'इसी', 'इसे', 'उन', 'उनका', 'उनकी', 'उनके', 'उनको', 'उन्हीं', 'उन्हें', 'उन्हों', 'उस', 'उसके', 'उसी', 'उसे', 'एक', 'एवं', 'एस', 'ऐसे', 'और', 'कई', 'कर','करता', 'करते', 'करना', 'करने', 'करें', 'कहते', 'कहा', 'का', 'काफ़ी', 'कि', 'कितना', 'किन्हें', 'किन्हों', 'किया', 'किर', 'किस', 'किसी', 'किसे', 'की', 'कुछ', 'कुल', 'के', 'को', 'कोई', 'कौन', 'कौनसा', 'गया', 'घर', 'जब', 'जहाँ', 'जा', 'जितना', 'जिन', 'जिन्हें', 'जिन्हों', 'जिस', 'जिसे', 'जीधर', 'जैसा', 'जैसे', 'जो', 'तक', 'तब', 'तरह', 'तिन', 'तिन्हें', 'तिन्हों', 'तिस', 'तिसे', 'तो', 'था', 'थी', 'थे', 'दबारा', 'दिया', 'दुसरा', 'दूसरे', 'दो', 'द्वारा', 'न', 'नहीं', 'ना', 'निहायत', 'नीचे', 'ने', 'पर', 'पर', 'पहले', 'पूरा', 'पे', 'फिर', 'बनी', 'बही', 'बहुत', 'बाद', 'बाला', 'बिलकुल', 'भी', 'भीतर', 'मगर', 'मानो', 'मे', 'में', 'यदि', 'यह', 'यहाँ', 'यही', 'या', 'यिह', 'ये', 'रखें', 'रहा', 'रहे', 'ऱ्वासा', 'लिए', 'लिये', 'लेकिन', 'व', 'वर्ग', 'वह', 'वह', 'वहाँ', 'वहीं', 'वाले', 'वुह', 'वे', 'वग़ैरह', 'संग', 'सकता', 'सकते', 'सबसे', 'सभी', 'साथ', 'साबुत', 'साभ', 'सारा', 'से', 'सो', 'ही', 'हुआ', 'हुई', 'हुए', 'है', 'हैं', 'हो', 'होता', 'होती', 'होते', 'होना', 'होने', 'अपनि', 'जेसे', 'होति', 'सभि', 'तिंहों', 'इंहों', 'दवारा', 'इसि', 'किंहें', 'थि', 'उंहों', 'ओर', 'जिंहें', 'वहिं', 'अभि', 'बनि', 'हि', 'उंहिं', 'उंहें', 'हें', 'वगेरह', 'एसे', 'रवासा', 'कोन', 'निचे', 'काफि', 'उसि', 'पुरा', 'भितर', 'हे', 'बहि', 'वहां', 'कोइ', 'यहां', 'जिंहों', 'तिंहें', 'किसि', 'कइ', 'यहि', 'इंहिं', 'जिधर', 'इंहें', 'अदि', 'इतयादि', 'हुइ', 'कोनसा', 'इसकि', 'दुसरे', 'जहां', 'अप', 'किंहों', 'उनकि', 'भि', 'वरग', 'हुअ', 'जेसा', 'नहिं']\n",
    "    stopwords_en = ['i', 'me', 'my', 'myself', 'we', 'our', 'ours', 'ourselves', 'you', \"you're\", \"you've\", \"you'll\", \"you'd\", 'your', 'yours', 'yourself', 'yourselves', 'he', 'him', 'his', 'himself', 'she', \"she's\", 'her', 'hers', 'herself', 'it', \"it's\", 'its', 'itself', 'they', 'them', 'their', 'theirs', 'themselves', 'what', 'which', 'who', 'whom', 'this', 'that', \"that'll\", 'these', 'those', 'am', 'is', 'are', 'was', 'were', 'be', 'been', 'being', 'have', 'has', 'had', 'having', 'do', 'does', 'did', 'doing', 'a', 'an', 'the', 'and', 'but', 'if', 'or', 'because', 'as', 'until', 'while', 'of', 'at', 'by', 'for', 'with', 'about', 'against', 'between', 'into', 'through', 'during', 'before', 'after', 'above', 'below', 'to', 'from', 'up', 'down', 'in', 'out', 'on', 'off', 'over', 'under', 'again', 'further', 'then', 'once', 'here', 'there', 'when', 'where', 'why', 'how', 'all', 'any', 'both', 'each', 'few', 'more', 'most', 'other', 'some', 'such', 'no', 'nor', 'not', 'only', 'own', 'same', 'so', 'than', 'too', 'very', 's', 't', 'can', 'will', 'just', 'don', \"don't\", 'should', \"should've\", 'now', 'd', 'll', 'm', 'o', 're', 've', 'y', 'ain', 'aren', \"aren't\", 'couldn', \"couldn't\", 'didn', \"didn't\", 'doesn', \"doesn't\", 'hadn', \"hadn't\", 'hasn', \"hasn't\", 'haven', \"haven't\", 'isn', \"isn't\", 'ma', 'mightn', \"mightn't\", 'mustn', \"mustn't\", 'needn', \"needn't\", 'shan', \"shan't\", 'shouldn', \"shouldn't\", 'wasn', \"wasn't\", 'weren', \"weren't\", 'won', \"won't\", 'wouldn', \"wouldn't\"]\n",
    "    punctuations = ['nn', 'n', '।', '/', '`', '+', '\\\\', '\"', '?', '▁(', '$', '@', '[', '_', '!', ',', ':', '^', '|', ']', '=', '%', '&', '.', ')', '(', '#', '*', ';', '-','}']\n",
    "    to_be_removed = stopwords_hi + punctuations + stopwords_en\n",
    "    def remove_stopwords_and_punctuation(text):\n",
    "        words = text.split()\n",
    "        cleaned_words = [word for word in words if word not in to_be_removed]\n",
    "        return ' '.join(cleaned_words)\n",
    "\n",
    "    series = series.apply(remove_stopwords_and_punctuation) \n",
    "    series = series.apply(lambda x: remove_nums(str(x)))\n",
    "    series = series.str.replace(r'\\d+', '', regex=True)\n",
    "    return series"
   ]
  },
  {
   "cell_type": "code",
   "execution_count": 38,
   "id": "ac31a5c7",
   "metadata": {},
   "outputs": [],
   "source": [
    "df7.Body = preprocess_hindi(df7.Body)"
   ]
  },
  {
   "cell_type": "code",
   "execution_count": null,
   "id": "9ca6bec5",
   "metadata": {},
   "outputs": [],
   "source": [
    "def preprocess_hin_pun(series):\n",
    "    series = series.str.replace(\"\\n\", '')\n",
    "    series = series.str.replace(\"\\xa0\", '')\n",
    "    return series\n",
    "df[\"Body\"] = preprocess_hin_pun(df[\"Body\"])"
   ]
  }
 ],
 "metadata": {
  "kernelspec": {
   "display_name": "Python 3 (ipykernel)",
   "language": "python",
   "name": "python3"
  },
  "language_info": {
   "codemirror_mode": {
    "name": "ipython",
    "version": 3
   },
   "file_extension": ".py",
   "mimetype": "text/x-python",
   "name": "python",
   "nbconvert_exporter": "python",
   "pygments_lexer": "ipython3",
   "version": "3.9.13"
  }
 },
 "nbformat": 4,
 "nbformat_minor": 5
}
