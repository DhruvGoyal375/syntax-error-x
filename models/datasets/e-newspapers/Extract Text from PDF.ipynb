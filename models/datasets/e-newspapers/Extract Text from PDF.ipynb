{
 "cells": [
  {
   "cell_type": "markdown",
   "id": "b4c92c01",
   "metadata": {},
   "source": [
    "### If pdf contains only text"
   ]
  },
  {
   "cell_type": "code",
   "execution_count": null,
   "id": "cae6b8e5",
   "metadata": {},
   "outputs": [],
   "source": [
    "from pypdf import PdfReader"
   ]
  },
  {
   "cell_type": "code",
   "execution_count": null,
   "id": "9713c71c",
   "metadata": {},
   "outputs": [],
   "source": [
    "reader = PdfReader(r\"file_path.pdf\")"
   ]
  },
  {
   "cell_type": "code",
   "execution_count": null,
   "id": "f294d652",
   "metadata": {},
   "outputs": [],
   "source": [
    "text = \"\"\n",
    "for i in reader.pages:\n",
    "    text += i.extract_text()\n",
    "print(text)"
   ]
  },
  {
   "cell_type": "markdown",
   "id": "f9805cf0",
   "metadata": {},
   "source": [
    "### If pdf contain images which contains text "
   ]
  },
  {
   "cell_type": "code",
   "execution_count": 11,
   "id": "1790e4a0",
   "metadata": {},
   "outputs": [],
   "source": [
    "from pdf2image import convert_from_path\n",
    "from pytesseract import image_to_string\n",
    "import os\n",
    "from tqdm import tqdm"
   ]
  },
  {
   "cell_type": "code",
   "execution_count": 12,
   "id": "5d11af82",
   "metadata": {},
   "outputs": [],
   "source": [
    "def convert_pdf_to_img(pdf_file):\n",
    "    return convert_from_path(pdf_file)\n",
    "def convert_image_to_text(file):\n",
    "    text = image_to_string(file)\n",
    "    return text\n",
    "def get_text_from_pdf(pdf_file):\n",
    "    images = convert_pdf_to_img(pdf_file)\n",
    "    final_text = \"\"\n",
    "    for pg, img in enumerate(images):     \n",
    "        final_text += convert_image_to_text(img)\n",
    "    return final_text"
   ]
  },
  {
   "cell_type": "code",
   "execution_count": 17,
   "id": "e7a2af7b",
   "metadata": {},
   "outputs": [
    {
     "name": "stderr",
     "output_type": "stream",
     "text": [
      "100%|███████████████████████████████████████████████████████████████████████████████| 32/32 [2:24:46<00:00, 271.46s/it]\n"
     ]
    }
   ],
   "source": [
    "path = \"C:/Users/Dhruv/Downloads/sih/newspapers\"\n",
    "dir_list = os.listdir(path)\n",
    "newspaper_text = []\n",
    "for i in tqdm(range(len(dir_list))):\n",
    "    path_to_pdf = f\"{path}/{dir_list[i]}\"\n",
    "    text = get_text_from_pdf(path_to_pdf)\n",
    "    newspaper_text.append(text)"
   ]
  },
  {
   "cell_type": "code",
   "execution_count": 18,
   "id": "67934a9b",
   "metadata": {},
   "outputs": [],
   "source": [
    "file = open(r\"C:\\Users\\Dhruv\\Downloads\\sih\\newspapers\\Newspaper_Text.txt\",'w')\n",
    "for news in newspaper_text:\n",
    "    file.write(news+\"\\n\")\n",
    "file.close()"
   ]
  },
  {
   "cell_type": "code",
   "execution_count": null,
   "id": "cc871d98",
   "metadata": {},
   "outputs": [],
   "source": []
  }
 ],
 "metadata": {
  "kernelspec": {
   "display_name": "Python 3 (ipykernel)",
   "language": "python",
   "name": "python3"
  },
  "language_info": {
   "codemirror_mode": {
    "name": "ipython",
    "version": 3
   },
   "file_extension": ".py",
   "mimetype": "text/x-python",
   "name": "python",
   "nbconvert_exporter": "python",
   "pygments_lexer": "ipython3",
   "version": "3.9.13"
  }
 },
 "nbformat": 4,
 "nbformat_minor": 5
}
