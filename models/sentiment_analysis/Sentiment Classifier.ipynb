{
 "cells": [
  {
   "cell_type": "code",
   "execution_count": 9,
   "id": "f97f0486",
   "metadata": {},
   "outputs": [],
   "source": [
    "from transformers import AutoModelForSequenceClassification\n",
    "from transformers import TFAutoModelForSequenceClassification\n",
    "from transformers import AutoTokenizer\n",
    "import numpy as np\n",
    "from scipy.special import softmax\n",
    "import csv\n",
    "import urllib.request\n",
    "import pandas as pd\n",
    "import torch"
   ]
  },
  {
   "cell_type": "code",
   "execution_count": 2,
   "id": "59e4236d",
   "metadata": {},
   "outputs": [],
   "source": [
    "task='sentiment'\n",
    "MODEL = f\"cardiffnlp/twitter-roberta-base-{task}\"\n",
    "\n",
    "tokenizer = AutoTokenizer.from_pretrained(MODEL)\n",
    "tokenizer.save_pretrained(\"tokenizer_roberta/token_izer\")\n",
    "\n",
    "# download label mapping\n",
    "labels=[]\n",
    "mapping_link = f\"https://raw.githubusercontent.com/cardiffnlp/tweeteval/main/datasets/{task}/mapping.txt\"\n",
    "with urllib.request.urlopen(mapping_link) as f:\n",
    "    html = f.read().decode('utf-8').split(\"\\n\")\n",
    "    csvreader = csv.reader(html, delimiter='\\t')\n",
    "labels = [row[1] for row in csvreader if len(row) > 1]\n",
    "\n",
    "model = AutoModelForSequenceClassification.from_pretrained(MODEL)\n",
    "model.save_pretrained(MODEL)"
   ]
  },
  {
   "cell_type": "code",
   "execution_count": 10,
   "id": "94c0203f",
   "metadata": {},
   "outputs": [],
   "source": [
    "tokenizer = AutoTokenizer.from_pretrained(\"./tokenizer_roberta/sentiment_tokenizer/\")"
   ]
  },
  {
   "cell_type": "code",
   "execution_count": 11,
   "id": "cc6cf651",
   "metadata": {},
   "outputs": [],
   "source": [
    "model = AutoModelForSequenceClassification.from_pretrained(\"./cardiffnlp/twitter-roberta-base-sentiment/\")"
   ]
  },
  {
   "cell_type": "code",
   "execution_count": 28,
   "id": "594e96a2",
   "metadata": {},
   "outputs": [],
   "source": [
    "def sentiment(row):\n",
    "    text = row[:1500]\n",
    "    encoded_input = tokenizer(text, return_tensors='pt')\n",
    "    with torch.no_grad():  # Disable gradient calculation during inference\n",
    "        output = model(**encoded_input)\n",
    "    scores = output[0][0].cpu().numpy()  # Move scores to CPU for further processing\n",
    "    scores = softmax(scores)\n",
    "\n",
    "\n",
    "    ranking = np.argsort(scores)\n",
    "    ranking = ranking[::-1]\n",
    "    max_score = 0\n",
    "    for i in range(scores.shape[0]):\n",
    "        l = labels[ranking[i]]\n",
    "        s = scores[ranking[i]]\n",
    "        if s > max_score:\n",
    "            final = l\n",
    "            max_score = s\n",
    "    return final"
   ]
  },
  {
   "cell_type": "markdown",
   "id": "5fc55efe",
   "metadata": {},
   "source": [
    "### News18"
   ]
  },
  {
   "cell_type": "code",
   "execution_count": 24,
   "id": "a20a6c7c",
   "metadata": {},
   "outputs": [],
   "source": [
    "df = pd.read_excel(r\"C:\\Users\\Dhruv\\Downloads\\sih\\IndiaToday_Preprocessed.xlsx\")"
   ]
  },
  {
   "cell_type": "code",
   "execution_count": 25,
   "id": "97b26207",
   "metadata": {},
   "outputs": [],
   "source": [
    "df = df.iloc[:100, :]"
   ]
  },
  {
   "cell_type": "code",
   "execution_count": null,
   "id": "1eb72334",
   "metadata": {},
   "outputs": [],
   "source": [
    "df[\"Sentiment\"] = df.Body.apply(lambda x: sentiment(str(x)))"
   ]
  },
  {
   "cell_type": "code",
   "execution_count": 8,
   "id": "9c32d6cc",
   "metadata": {},
   "outputs": [
    {
     "data": {
      "text/html": [
       "<div>\n",
       "<style scoped>\n",
       "    .dataframe tbody tr th:only-of-type {\n",
       "        vertical-align: middle;\n",
       "    }\n",
       "\n",
       "    .dataframe tbody tr th {\n",
       "        vertical-align: top;\n",
       "    }\n",
       "\n",
       "    .dataframe thead th {\n",
       "        text-align: right;\n",
       "    }\n",
       "</style>\n",
       "<table border=\"1\" class=\"dataframe\">\n",
       "  <thead>\n",
       "    <tr style=\"text-align: right;\">\n",
       "      <th></th>\n",
       "      <th>Heading</th>\n",
       "      <th>Body</th>\n",
       "      <th>Category</th>\n",
       "      <th>URL</th>\n",
       "      <th>Sentiment</th>\n",
       "    </tr>\n",
       "  </thead>\n",
       "  <tbody>\n",
       "    <tr>\n",
       "      <th>0</th>\n",
       "      <td>'Free speech should not be hate speech': Madra...</td>\n",
       "      <td>madras high court issue significant remark ami...</td>\n",
       "      <td>law</td>\n",
       "      <td>https://www.indiatoday.in/law/high-courts/stor...</td>\n",
       "      <td>neutral</td>\n",
       "    </tr>\n",
       "    <tr>\n",
       "      <th>1</th>\n",
       "      <td>'Comments taken out of context', says US cop w...</td>\n",
       "      <td>seattle police officer guild friday come defen...</td>\n",
       "      <td>world</td>\n",
       "      <td>https://www.indiatoday.in/world/story/indian-s...</td>\n",
       "      <td>neutral</td>\n",
       "    </tr>\n",
       "    <tr>\n",
       "      <th>2</th>\n",
       "      <td>First meeting of 'One Nation One Election' com...</td>\n",
       "      <td>first official meeting one nation one election...</td>\n",
       "      <td>india</td>\n",
       "      <td>https://www.indiatoday.in/india/story/one-nati...</td>\n",
       "      <td>neutral</td>\n",
       "    </tr>\n",
       "    <tr>\n",
       "      <th>3</th>\n",
       "      <td>US airlines’ flight depressurizes mid-air, plu...</td>\n",
       "      <td>united airlines jet head rome turn around less...</td>\n",
       "      <td>world</td>\n",
       "      <td>https://www.indiatoday.in/world/story/us-fligh...</td>\n",
       "      <td>neutral</td>\n",
       "    </tr>\n",
       "    <tr>\n",
       "      <th>4</th>\n",
       "      <td>3 terrorists killed as security forces foil in...</td>\n",
       "      <td>three terrorist kill infiltration bid foil sec...</td>\n",
       "      <td>india</td>\n",
       "      <td>https://www.indiatoday.in/india/story/one-terr...</td>\n",
       "      <td>negative</td>\n",
       "    </tr>\n",
       "  </tbody>\n",
       "</table>\n",
       "</div>"
      ],
      "text/plain": [
       "                                             Heading  \\\n",
       "0  'Free speech should not be hate speech': Madra...   \n",
       "1  'Comments taken out of context', says US cop w...   \n",
       "2  First meeting of 'One Nation One Election' com...   \n",
       "3  US airlines’ flight depressurizes mid-air, plu...   \n",
       "4  3 terrorists killed as security forces foil in...   \n",
       "\n",
       "                                                Body Category  \\\n",
       "0  madras high court issue significant remark ami...      law   \n",
       "1  seattle police officer guild friday come defen...    world   \n",
       "2  first official meeting one nation one election...    india   \n",
       "3  united airlines jet head rome turn around less...    world   \n",
       "4  three terrorist kill infiltration bid foil sec...    india   \n",
       "\n",
       "                                                 URL Sentiment  \n",
       "0  https://www.indiatoday.in/law/high-courts/stor...   neutral  \n",
       "1  https://www.indiatoday.in/world/story/indian-s...   neutral  \n",
       "2  https://www.indiatoday.in/india/story/one-nati...   neutral  \n",
       "3  https://www.indiatoday.in/world/story/us-fligh...   neutral  \n",
       "4  https://www.indiatoday.in/india/story/one-terr...  negative  "
      ]
     },
     "execution_count": 8,
     "metadata": {},
     "output_type": "execute_result"
    }
   ],
   "source": [
    "df.head()"
   ]
  },
  {
   "cell_type": "code",
   "execution_count": 36,
   "id": "92c54316",
   "metadata": {},
   "outputs": [
    {
     "data": {
      "text/html": [
       "<div>\n",
       "<style scoped>\n",
       "    .dataframe tbody tr th:only-of-type {\n",
       "        vertical-align: middle;\n",
       "    }\n",
       "\n",
       "    .dataframe tbody tr th {\n",
       "        vertical-align: top;\n",
       "    }\n",
       "\n",
       "    .dataframe thead th {\n",
       "        text-align: right;\n",
       "    }\n",
       "</style>\n",
       "<table border=\"1\" class=\"dataframe\">\n",
       "  <thead>\n",
       "    <tr style=\"text-align: right;\">\n",
       "      <th></th>\n",
       "      <th>Heading</th>\n",
       "      <th>Body</th>\n",
       "      <th>Category</th>\n",
       "      <th>URL</th>\n",
       "      <th>Sentiment</th>\n",
       "    </tr>\n",
       "  </thead>\n",
       "  <tbody>\n",
       "    <tr>\n",
       "      <th>0</th>\n",
       "      <td>'Free speech should not be hate speech': Madra...</td>\n",
       "      <td>madras high court issue significant remark ami...</td>\n",
       "      <td>law</td>\n",
       "      <td>https://www.indiatoday.in/law/high-courts/stor...</td>\n",
       "      <td>neutral</td>\n",
       "    </tr>\n",
       "    <tr>\n",
       "      <th>1</th>\n",
       "      <td>'Comments taken out of context', says US cop w...</td>\n",
       "      <td>seattle police officer guild friday come defen...</td>\n",
       "      <td>world</td>\n",
       "      <td>https://www.indiatoday.in/world/story/indian-s...</td>\n",
       "      <td>neutral</td>\n",
       "    </tr>\n",
       "    <tr>\n",
       "      <th>2</th>\n",
       "      <td>First meeting of 'One Nation One Election' com...</td>\n",
       "      <td>first official meeting one nation one election...</td>\n",
       "      <td>india</td>\n",
       "      <td>https://www.indiatoday.in/india/story/one-nati...</td>\n",
       "      <td>neutral</td>\n",
       "    </tr>\n",
       "    <tr>\n",
       "      <th>3</th>\n",
       "      <td>US airlines’ flight depressurizes mid-air, plu...</td>\n",
       "      <td>united airlines jet head rome turn around less...</td>\n",
       "      <td>world</td>\n",
       "      <td>https://www.indiatoday.in/world/story/us-fligh...</td>\n",
       "      <td>neutral</td>\n",
       "    </tr>\n",
       "    <tr>\n",
       "      <th>4</th>\n",
       "      <td>3 terrorists killed as security forces foil in...</td>\n",
       "      <td>three terrorist kill infiltration bid foil sec...</td>\n",
       "      <td>india</td>\n",
       "      <td>https://www.indiatoday.in/india/story/one-terr...</td>\n",
       "      <td>negative</td>\n",
       "    </tr>\n",
       "  </tbody>\n",
       "</table>\n",
       "</div>"
      ],
      "text/plain": [
       "                                             Heading  \\\n",
       "0  'Free speech should not be hate speech': Madra...   \n",
       "1  'Comments taken out of context', says US cop w...   \n",
       "2  First meeting of 'One Nation One Election' com...   \n",
       "3  US airlines’ flight depressurizes mid-air, plu...   \n",
       "4  3 terrorists killed as security forces foil in...   \n",
       "\n",
       "                                                Body Category  \\\n",
       "0  madras high court issue significant remark ami...      law   \n",
       "1  seattle police officer guild friday come defen...    world   \n",
       "2  first official meeting one nation one election...    india   \n",
       "3  united airlines jet head rome turn around less...    world   \n",
       "4  three terrorist kill infiltration bid foil sec...    india   \n",
       "\n",
       "                                                 URL Sentiment  \n",
       "0  https://www.indiatoday.in/law/high-courts/stor...   neutral  \n",
       "1  https://www.indiatoday.in/world/story/indian-s...   neutral  \n",
       "2  https://www.indiatoday.in/india/story/one-nati...   neutral  \n",
       "3  https://www.indiatoday.in/world/story/us-fligh...   neutral  \n",
       "4  https://www.indiatoday.in/india/story/one-terr...  negative  "
      ]
     },
     "execution_count": 36,
     "metadata": {},
     "output_type": "execute_result"
    }
   ],
   "source": [
    "df.head()"
   ]
  },
  {
   "cell_type": "code",
   "execution_count": 80,
   "id": "46d15e04",
   "metadata": {},
   "outputs": [],
   "source": [
    "file_name = \"News18_with_sentiment.xlsx\"\n",
    "df.to_excel(file_name, index=False)"
   ]
  },
  {
   "cell_type": "markdown",
   "id": "2d18290a",
   "metadata": {},
   "source": [
    "### IndiaToday "
   ]
  },
  {
   "cell_type": "code",
   "execution_count": 85,
   "id": "05812f24",
   "metadata": {},
   "outputs": [],
   "source": [
    "df2 = pd.read_excel(r\"C:\\Users\\Dhruv\\Downloads\\sih\\IndiaToday_Preprocessed.xlsx\")"
   ]
  },
  {
   "cell_type": "code",
   "execution_count": 92,
   "id": "63f848f6",
   "metadata": {},
   "outputs": [],
   "source": [
    "df2[\"Sentiment\"] = df2.Body.apply(lambda x: sentiment(str(x)))"
   ]
  },
  {
   "cell_type": "code",
   "execution_count": 93,
   "id": "3ff931da",
   "metadata": {},
   "outputs": [],
   "source": [
    "file_name = \"IndiaToday_with_sentiment.xlsx\"\n",
    "df2.to_excel(file_name, index=False)"
   ]
  },
  {
   "cell_type": "markdown",
   "id": "ca436688",
   "metadata": {},
   "source": [
    "### IndiaTV"
   ]
  },
  {
   "cell_type": "code",
   "execution_count": 88,
   "id": "a15e8438",
   "metadata": {},
   "outputs": [],
   "source": [
    "df3 = pd.read_excel(r\"C:\\Users\\Dhruv\\Downloads\\sih\\IndiaTV_Preprocessed.xlsx\")"
   ]
  },
  {
   "cell_type": "code",
   "execution_count": 90,
   "id": "423a47bc",
   "metadata": {},
   "outputs": [],
   "source": [
    "df3[\"Sentiment\"] = df3.Body.apply(lambda x: sentiment(x))"
   ]
  },
  {
   "cell_type": "code",
   "execution_count": 91,
   "id": "d7b33f1e",
   "metadata": {},
   "outputs": [],
   "source": [
    "file_name = \"IndiaTV_with_sentiment.xlsx\"\n",
    "df3.to_excel(file_name, index=False)"
   ]
  }
 ],
 "metadata": {
  "kernelspec": {
   "display_name": "Python 3 (ipykernel)",
   "language": "python",
   "name": "python3"
  },
  "language_info": {
   "codemirror_mode": {
    "name": "ipython",
    "version": 3
   },
   "file_extension": ".py",
   "mimetype": "text/x-python",
   "name": "python",
   "nbconvert_exporter": "python",
   "pygments_lexer": "ipython3",
   "version": "3.9.13"
  }
 },
 "nbformat": 4,
 "nbformat_minor": 5
}
