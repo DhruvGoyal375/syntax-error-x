{
 "cells": [
  {
   "cell_type": "code",
   "execution_count": 1,
   "id": "70d22706",
   "metadata": {},
   "outputs": [],
   "source": [
    "import pandas as pd\n",
    "import umap\n",
    "import hdbscan\n",
    "from sentence_transformers import SentenceTransformer\n",
    "import plotly.express as px\n",
    "from keybert import KeyBERT\n",
    "import torch\n",
    "device = torch.device(\"cuda\" if torch.cuda.is_available() else \"cpu\")\n",
    "import numpy as np\n",
    "import matplotlib.pyplot as plt\n",
    "from wordcloud import WordCloud"
   ]
  },
  {
   "cell_type": "code",
   "execution_count": 2,
   "id": "fbbaa452",
   "metadata": {},
   "outputs": [],
   "source": [
    "df = pd.read_csv(\"final_dataset_Preprocessed.csv\")"
   ]
  },
  {
   "cell_type": "code",
   "execution_count": 3,
   "id": "2b2fabf2",
   "metadata": {},
   "outputs": [],
   "source": [
    "df.drop(\"Heading\", axis=1, inplace=True)\n",
    "df.drop(\"URL\", axis=1, inplace=True)"
   ]
  },
  {
   "cell_type": "code",
   "execution_count": 4,
   "id": "eeb02153",
   "metadata": {},
   "outputs": [],
   "source": [
    "df.dropna(inplace=True)"
   ]
  },
  {
   "cell_type": "code",
   "execution_count": 5,
   "id": "a6f6419a",
   "metadata": {},
   "outputs": [],
   "source": [
    "embedder = SentenceTransformer('sentence-transformers/all-mpnet-base-v2', device=device)\n",
    "embeddings = embedder.encode(df[\"Body\"].values)\n",
    "print(embeddings)"
   ]
  },
  {
   "cell_type": "code",
   "execution_count": 6,
   "id": "096bf473",
   "metadata": {},
   "outputs": [],
   "source": [
    "np.save('embeddings_final_dataset_Preprocessed.npy', embeddings)"
   ]
  },
  {
   "cell_type": "code",
   "execution_count": 7,
   "id": "097b092f",
   "metadata": {},
   "outputs": [],
   "source": [
    "# embeddings = np.load(r\"C:\\Users\\Dhruv\\Downloads\\embeddings_Headings_final_data_Preprocessed.npy\")"
   ]
  },
  {
   "cell_type": "code",
   "execution_count": 8,
   "id": "8825d533",
   "metadata": {},
   "outputs": [
    {
     "name": "stdout",
     "output_type": "stream",
     "text": [
      "(11583, 768)\n"
     ]
    }
   ],
   "source": [
    "print(embeddings.shape)"
   ]
  },
  {
   "cell_type": "code",
   "execution_count": 165,
   "id": "578e7fa1",
   "metadata": {},
   "outputs": [
    {
     "name": "stdout",
     "output_type": "stream",
     "text": [
      "(11583, 2)\n"
     ]
    }
   ],
   "source": [
    "reduced_embeddings = umap.UMAP(n_components=2, n_neighbors=100, min_dist=0.02).fit_transform(embeddings)\n",
    "print(reduced_embeddings.shape)"
   ]
  },
  {
   "cell_type": "code",
   "execution_count": 183,
   "id": "29f9ffdb",
   "metadata": {},
   "outputs": [
    {
     "name": "stdout",
     "output_type": "stream",
     "text": [
      "Num of clusters: 30\n"
     ]
    }
   ],
   "source": [
    "clusterer = hdbscan.HDBSCAN(min_cluster_size=35)\n",
    "labels = clusterer.fit_predict(reduced_embeddings)\n",
    "df[\"label\"] = [str(label) for label in labels]\n",
    "print(f\"Num of clusters: {labels.max()}\")"
   ]
  },
  {
   "cell_type": "code",
   "execution_count": 184,
   "id": "a0792617",
   "metadata": {},
   "outputs": [],
   "source": [
    "# put the values of the two dimensions inside the dataframe\n",
    "df[\"x\"] = reduced_embeddings[:, 0]\n",
    "df[\"y\"] = reduced_embeddings[:, 1]\n",
    "# substring of the full text, for visualization purposes\n",
    "df[\"text_short\"] = df[\"Body\"].str[:200]"
   ]
  },
  {
   "cell_type": "code",
   "execution_count": null,
   "id": "632730eb",
   "metadata": {},
   "outputs": [],
   "source": [
    "hover_data = {\n",
    "    \"text_short\": True,\n",
    "    \"x\": False,\n",
    "    \"y\": False\n",
    "}\n",
    "fig = px.scatter(df, x=\"x\", y=\"y\", template=\"plotly_dark\",\n",
    "                   title=\"Embeddings\", hover_data=hover_data)\n",
    "fig.update_layout(showlegend=False)\n",
    "fig.show()"
   ]
  },
  {
   "cell_type": "code",
   "execution_count": 186,
   "id": "dc95b21e",
   "metadata": {},
   "outputs": [
    {
     "name": "stdout",
     "output_type": "stream",
     "text": [
      "Num of outliers: 3456 (29.84 % of total)\n"
     ]
    }
   ],
   "source": [
    "num_outliers = len(df[df[\"label\"] == \"-1\"])\n",
    "print(f\"Num of outliers: {num_outliers} ({num_outliers / len(df) * 100:.2f} % of total)\")"
   ]
  },
  {
   "cell_type": "code",
   "execution_count": null,
   "id": "f3a9084b",
   "metadata": {},
   "outputs": [],
   "source": [
    "df_no_outliers = df[df[\"label\"] != \"-1\"]\n",
    "\n",
    "# scatter plot\n",
    "hover_data = {\n",
    "    \"text_short\": True,\n",
    "    \"x\": False,\n",
    "    \"y\": False\n",
    "}\n",
    "fig = px.scatter(df_no_outliers, x=\"x\", y=\"y\", template=\"plotly_dark\",\n",
    "                   title=\"Embeddings\", color=\"label\", hover_data=hover_data)\n",
    "fig.show()"
   ]
  },
  {
   "cell_type": "code",
   "execution_count": 190,
   "id": "063843a6",
   "metadata": {},
   "outputs": [
    {
     "name": "stdout",
     "output_type": "stream",
     "text": [
      "[('schumacher', 0.5447), ('alonso', 0.5014), ('ferrari', 0.4603), ('prix', 0.4576), ('prixs', 0.4172), ('racing', 0.3931), ('jenson', 0.3871), ('ferraris', 0.375), ('ricciardo', 0.3729), ('fia', 0.368)]\n"
     ]
    }
   ],
   "source": [
    "cluster = \"1\"\n",
    "df_subset = df[df[\"label\"] == cluster].reset_index()\n",
    "texts_concat = \". \".join(df_subset[\"Heading\"].values)\n",
    "keywords_and_scores = KeyBERT().extract_keywords(texts_concat,\n",
    "                                    keyphrase_ngram_range=(1, 1), top_n=10)\n",
    "print(keywords_and_scores)"
   ]
  },
  {
   "cell_type": "code",
   "execution_count": 191,
   "id": "45d3a95d",
   "metadata": {},
   "outputs": [
    {
     "name": "stdout",
     "output_type": "stream",
     "text": [
      "['schumacher', 'alonso', 'ferrari']\n"
     ]
    }
   ],
   "source": [
    "def filter_keywords(keywords, n_keep=3):\n",
    "    new_keywords = []\n",
    "    for candidate_keyword in keywords:\n",
    "        is_ok = True\n",
    "        for compare_keyword in keywords:\n",
    "            if candidate_keyword == compare_keyword:\n",
    "                continue\n",
    "            if compare_keyword in candidate_keyword:\n",
    "                is_ok = False\n",
    "                break\n",
    "        if is_ok:\n",
    "            new_keywords.append(candidate_keyword)\n",
    "            if len(new_keywords) >= n_keep:\n",
    "                break\n",
    "    return new_keywords\n",
    "\n",
    "keywords = [t[0] for t in keywords_and_scores]\n",
    "keywords_filtered = filter_keywords(keywords)\n",
    "print(keywords_filtered)"
   ]
  },
  {
   "cell_type": "code",
   "execution_count": null,
   "id": "c01aa3fc",
   "metadata": {},
   "outputs": [],
   "source": [
    "df_no_outliers"
   ]
  },
  {
   "cell_type": "code",
   "execution_count": null,
   "id": "91abc003",
   "metadata": {},
   "outputs": [],
   "source": [
    "# assign a meaningful name to each cluster\n",
    "def get_cluster_name(df, cluster):\n",
    "    df_subset = df[df[\"label\"] == cluster].reset_index()\n",
    "    texts_concat = \". \".join(df_subset[\"Heading\"])\n",
    "    kw_model = KeyBERT()\n",
    "    keywords_and_scores = kw_model.extract_keywords(texts_concat, keyphrase_ngram_range=(1, 1),\n",
    "                                        top_n=10)\n",
    "    keywords = [t[0] for t in keywords_and_scores]\n",
    "    keywords_filtered = filter_keywords(keywords)\n",
    "    return \" - \".join(keywords_filtered)\n",
    "\n",
    "# get all the new cluster names\n",
    "all_clusters = df_no_outliers[\"label\"].unique()\n",
    "d_cluster_name_mapping = {}\n",
    "for cluster in all_clusters:\n",
    "    if cluster == \"-1\":\n",
    "        d_cluster_name_mapping[cluster] = \"outliers\"\n",
    "    else:\n",
    "        d_cluster_name_mapping[cluster] = get_cluster_name(df_no_outliers, cluster)\n",
    "\n",
    "# rename clusters\n",
    "df_no_outliers[\"label\"] = df_no_outliers[\"label\"].apply(lambda label: d_cluster_name_mapping[label])"
   ]
  },
  {
   "cell_type": "code",
   "execution_count": null,
   "id": "c3d7c552",
   "metadata": {},
   "outputs": [],
   "source": [
    "clusters = df_no_outliers['label'].unique()\n",
    "\n",
    "for cluster in clusters:\n",
    "    # Combine all text for a specific cluster\n",
    "    cluster_text = ' '.join(df_no_outliers[df_no_outliers['label'] == cluster]['Body'])\n",
    "    \n",
    "    # Generate a word cloud for the cluster's text\n",
    "    wordcloud = WordCloud(width=800, height=400, background_color='white').generate(cluster_text)\n",
    "    \n",
    "    # Display the word cloud\n",
    "    plt.figure(figsize=(10, 5))\n",
    "    plt.imshow(wordcloud, interpolation='bilinear')\n",
    "    plt.title(f'Word Cloud for Cluster {cluster}')\n",
    "    plt.axis('off')\n",
    "    plt.show()"
   ]
  }
 ],
 "metadata": {
  "kernelspec": {
   "display_name": "Python 3 (ipykernel)",
   "language": "python",
   "name": "python3"
  },
  "language_info": {
   "codemirror_mode": {
    "name": "ipython",
    "version": 3
   },
   "file_extension": ".py",
   "mimetype": "text/x-python",
   "name": "python",
   "nbconvert_exporter": "python",
   "pygments_lexer": "ipython3",
   "version": "3.11.5"
  }
 },
 "nbformat": 4,
 "nbformat_minor": 5
}
